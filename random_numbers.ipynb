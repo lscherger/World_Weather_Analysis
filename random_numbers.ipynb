{
 "cells": [
  {
   "cell_type": "code",
   "execution_count": 1,
   "id": "fe0364d7",
   "metadata": {},
   "outputs": [],
   "source": [
    "# Import the random module.\n",
    "import random\n"
   ]
  },
  {
   "cell_type": "code",
   "execution_count": 2,
   "id": "7aafe029",
   "metadata": {},
   "outputs": [
    {
     "data": {
      "text/plain": [
       "72"
      ]
     },
     "execution_count": 2,
     "metadata": {},
     "output_type": "execute_result"
    }
   ],
   "source": [
    "random.randint(-90,90)"
   ]
  },
  {
   "cell_type": "code",
   "execution_count": 3,
   "id": "10a50074",
   "metadata": {},
   "outputs": [
    {
     "data": {
      "text/plain": [
       "0.3062949258444403"
      ]
     },
     "execution_count": 3,
     "metadata": {},
     "output_type": "execute_result"
    }
   ],
   "source": [
    "random.random()"
   ]
  },
  {
   "cell_type": "code",
   "execution_count": 4,
   "id": "2fe82025",
   "metadata": {},
   "outputs": [],
   "source": [
    "x = 1\n",
    "latitudes = []\n",
    "while x < 11:\n",
    "    random_lat = random.randint(-90, 89) + random.random()\n",
    "    latitudes.append(random_lat)\n",
    "    x += 1\n"
   ]
  },
  {
   "cell_type": "code",
   "execution_count": 5,
   "id": "f25ea51a",
   "metadata": {},
   "outputs": [
    {
     "data": {
      "text/plain": [
       "[9.511443912333899,\n",
       " -60.11137250193076,\n",
       " 39.328179448076305,\n",
       " -37.77962818095763,\n",
       " -11.32899167870028,\n",
       " -40.187243775087936,\n",
       " 13.474700187513381,\n",
       " -45.55552341990432,\n",
       " 13.300436402929032,\n",
       " 41.09945787941684]"
      ]
     },
     "execution_count": 5,
     "metadata": {},
     "output_type": "execute_result"
    }
   ],
   "source": [
    "latitudes"
   ]
  },
  {
   "cell_type": "code",
   "execution_count": 8,
   "id": "50eed294",
   "metadata": {},
   "outputs": [
    {
     "data": {
      "text/plain": [
       "72"
      ]
     },
     "execution_count": 8,
     "metadata": {},
     "output_type": "execute_result"
    }
   ],
   "source": [
    "random.randrange(-90,90,step=3)"
   ]
  },
  {
   "cell_type": "code",
   "execution_count": 9,
   "id": "f778ec75",
   "metadata": {},
   "outputs": [
    {
     "data": {
      "text/plain": [
       "-28.545415582899466"
      ]
     },
     "execution_count": 9,
     "metadata": {},
     "output_type": "execute_result"
    }
   ],
   "source": [
    "random.uniform(-90,90)"
   ]
  },
  {
   "cell_type": "code",
   "execution_count": 10,
   "id": "86b7bbc6",
   "metadata": {},
   "outputs": [],
   "source": [
    "# Import the NumPy module.\n",
    "import numpy as np"
   ]
  },
  {
   "cell_type": "code",
   "execution_count": 12,
   "id": "065f58da",
   "metadata": {},
   "outputs": [
    {
     "data": {
      "text/plain": [
       "array([  0.84557986,  70.24624192,  -8.3724567 ,  -8.6770826 ,\n",
       "        56.28819081, -31.37753267, -21.2973185 ,  68.01991785,\n",
       "        55.30951018,  72.37128013, -66.34016218,  60.83861077,\n",
       "        56.15665916,  -9.96084868,  39.83488355, -14.47344253,\n",
       "       -14.55185082,  79.92730917,  86.95480285, -23.2934252 ,\n",
       "       -50.99570125, -62.94688925, -82.58306604, -58.4669933 ,\n",
       "         6.5557537 ,  40.87496026,  10.82352887,   4.86924583,\n",
       "        23.21010131,  10.39446564,  28.35509202,  56.14265101,\n",
       "       -36.85013225, -24.22920606, -83.14367663,  48.02214281,\n",
       "         2.17439342,  31.21010594,  -5.56110344,  88.03313422,\n",
       "        22.35055382,  -4.22916031, -37.52771755,  54.18770696,\n",
       "       -49.49380331, -89.81925414, -15.03717487, -67.91094026,\n",
       "       -80.81900405, -30.7042188 ])"
      ]
     },
     "execution_count": 12,
     "metadata": {},
     "output_type": "execute_result"
    }
   ],
   "source": [
    "np.random.uniform(-90.000, 90.000, size=50)"
   ]
  },
  {
   "cell_type": "code",
   "execution_count": 13,
   "id": "d072ab2a",
   "metadata": {},
   "outputs": [],
   "source": [
    "# Import timeit.\n",
    "import timeit"
   ]
  },
  {
   "cell_type": "code",
   "execution_count": 14,
   "id": "98bfcf9b",
   "metadata": {},
   "outputs": [
    {
     "name": "stdout",
     "output_type": "stream",
     "text": [
      "12.5 µs ± 39.1 ns per loop (mean ± std. dev. of 7 runs, 100000 loops each)\n"
     ]
    }
   ],
   "source": [
    "%timeit np.random.uniform(-90.000, 90.000, size=1500)\n"
   ]
  },
  {
   "cell_type": "code",
   "execution_count": 15,
   "id": "bf6ed128",
   "metadata": {},
   "outputs": [
    {
     "name": "stdout",
     "output_type": "stream",
     "text": [
      "1.43 ms ± 10.1 µs per loop (mean ± std. dev. of 7 runs, 1000 loops each)\n"
     ]
    }
   ],
   "source": [
    "def latitudes(size):\n",
    "    latitudes = []\n",
    "    x = 0\n",
    "    while x < (size):\n",
    "        random_lat = random.randint(-90, 90) + random.random()\n",
    "        latitudes.append(random_lat)\n",
    "        x += 1\n",
    "    return latitudes\n",
    "# Call the function with 1500.\n",
    "%timeit latitudes(1500)"
   ]
  },
  {
   "cell_type": "code",
   "execution_count": null,
   "id": "3d0a6361",
   "metadata": {},
   "outputs": [],
   "source": []
  }
 ],
 "metadata": {
  "kernelspec": {
   "display_name": "PythonData",
   "language": "python",
   "name": "pythondata"
  },
  "language_info": {
   "codemirror_mode": {
    "name": "ipython",
    "version": 3
   },
   "file_extension": ".py",
   "mimetype": "text/x-python",
   "name": "python",
   "nbconvert_exporter": "python",
   "pygments_lexer": "ipython3",
   "version": "3.7.10"
  }
 },
 "nbformat": 4,
 "nbformat_minor": 5
}
